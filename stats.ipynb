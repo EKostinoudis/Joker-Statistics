{
 "cells": [
  {
   "cell_type": "code",
   "execution_count": 1,
   "metadata": {},
   "outputs": [
    {
     "name": "stderr",
     "output_type": "stream",
     "text": [
      "/usr/lib/python3/dist-packages/ipykernel_launcher.py:9: SettingWithCopyWarning: \n",
      "A value is trying to be set on a copy of a slice from a DataFrame\n",
      "\n",
      "See the caveats in the documentation: https://pandas.pydata.org/pandas-docs/stable/user_guide/indexing.html#returning-a-view-versus-a-copy\n",
      "  if __name__ == '__main__':\n"
     ]
    }
   ],
   "source": [
    "import pandas as pd\n",
    "\n",
    "dataFile = \"data2172.csv\"\n",
    "saveFig = True\n",
    "\n",
    "data = pd.read_csv(dataFile)\n",
    "\n",
    "for row in range(len(data)):\n",
    "    data[\"winningNumbers\"][row] = [int(i) for i in data[\"winningNumbers\"][row][1:-1].split(\", \")]"
   ]
  },
  {
   "cell_type": "code",
   "execution_count": 2,
   "metadata": {},
   "outputs": [
    {
     "data": {
      "text/html": [
       "<div>\n",
       "<style scoped>\n",
       "    .dataframe tbody tr th:only-of-type {\n",
       "        vertical-align: middle;\n",
       "    }\n",
       "\n",
       "    .dataframe tbody tr th {\n",
       "        vertical-align: top;\n",
       "    }\n",
       "\n",
       "    .dataframe thead th {\n",
       "        text-align: right;\n",
       "    }\n",
       "</style>\n",
       "<table border=\"1\" class=\"dataframe\">\n",
       "  <thead>\n",
       "    <tr style=\"text-align: right;\">\n",
       "      <th></th>\n",
       "      <th>drawId</th>\n",
       "      <th>winningNumbers</th>\n",
       "      <th>joker</th>\n",
       "      <th>winners</th>\n",
       "      <th>jackpot</th>\n",
       "      <th>distributed</th>\n",
       "      <th>columns</th>\n",
       "    </tr>\n",
       "  </thead>\n",
       "  <tbody>\n",
       "    <tr>\n",
       "      <th>0</th>\n",
       "      <td>1</td>\n",
       "      <td>[32, 4, 29, 7, 16]</td>\n",
       "      <td>16</td>\n",
       "      <td>1</td>\n",
       "      <td>4311968.28</td>\n",
       "      <td>18916978.16</td>\n",
       "      <td>0</td>\n",
       "    </tr>\n",
       "    <tr>\n",
       "      <th>1</th>\n",
       "      <td>2</td>\n",
       "      <td>[27, 35, 19, 4, 5]</td>\n",
       "      <td>5</td>\n",
       "      <td>0</td>\n",
       "      <td>0.00</td>\n",
       "      <td>39542706.08</td>\n",
       "      <td>0</td>\n",
       "    </tr>\n",
       "    <tr>\n",
       "      <th>2</th>\n",
       "      <td>3</td>\n",
       "      <td>[13, 40, 17, 12, 36]</td>\n",
       "      <td>2</td>\n",
       "      <td>0</td>\n",
       "      <td>39542706.08</td>\n",
       "      <td>29768138.12</td>\n",
       "      <td>0</td>\n",
       "    </tr>\n",
       "    <tr>\n",
       "      <th>3</th>\n",
       "      <td>4</td>\n",
       "      <td>[12, 40, 28, 27, 18]</td>\n",
       "      <td>2</td>\n",
       "      <td>0</td>\n",
       "      <td>26361171.24</td>\n",
       "      <td>16826241.12</td>\n",
       "      <td>0</td>\n",
       "    </tr>\n",
       "    <tr>\n",
       "      <th>4</th>\n",
       "      <td>5</td>\n",
       "      <td>[37, 29, 8, 40, 28]</td>\n",
       "      <td>11</td>\n",
       "      <td>0</td>\n",
       "      <td>237739.40</td>\n",
       "      <td>26639833.16</td>\n",
       "      <td>0</td>\n",
       "    </tr>\n",
       "    <tr>\n",
       "      <th>...</th>\n",
       "      <td>...</td>\n",
       "      <td>...</td>\n",
       "      <td>...</td>\n",
       "      <td>...</td>\n",
       "      <td>...</td>\n",
       "      <td>...</td>\n",
       "      <td>...</td>\n",
       "    </tr>\n",
       "    <tr>\n",
       "      <th>2167</th>\n",
       "      <td>2168</td>\n",
       "      <td>[18, 29, 4, 35, 27]</td>\n",
       "      <td>20</td>\n",
       "      <td>0</td>\n",
       "      <td>1232708.62</td>\n",
       "      <td>388164.86</td>\n",
       "      <td>3117790</td>\n",
       "    </tr>\n",
       "    <tr>\n",
       "      <th>2168</th>\n",
       "      <td>2169</td>\n",
       "      <td>[1, 33, 13, 3, 27]</td>\n",
       "      <td>11</td>\n",
       "      <td>0</td>\n",
       "      <td>1620873.48</td>\n",
       "      <td>324315.40</td>\n",
       "      <td>2604943</td>\n",
       "    </tr>\n",
       "    <tr>\n",
       "      <th>2169</th>\n",
       "      <td>2170</td>\n",
       "      <td>[5, 25, 38, 41, 23]</td>\n",
       "      <td>11</td>\n",
       "      <td>0</td>\n",
       "      <td>1945188.88</td>\n",
       "      <td>401055.59</td>\n",
       "      <td>3221330</td>\n",
       "    </tr>\n",
       "    <tr>\n",
       "      <th>2170</th>\n",
       "      <td>2171</td>\n",
       "      <td>[34, 4, 20, 26, 7]</td>\n",
       "      <td>16</td>\n",
       "      <td>0</td>\n",
       "      <td>2346244.46</td>\n",
       "      <td>553039.58</td>\n",
       "      <td>4442085</td>\n",
       "    </tr>\n",
       "    <tr>\n",
       "      <th>2171</th>\n",
       "      <td>2172</td>\n",
       "      <td>[11, 18, 26, 4, 1]</td>\n",
       "      <td>20</td>\n",
       "      <td>0</td>\n",
       "      <td>2899284.04</td>\n",
       "      <td>410587.93</td>\n",
       "      <td>3297895</td>\n",
       "    </tr>\n",
       "  </tbody>\n",
       "</table>\n",
       "<p>2172 rows × 7 columns</p>\n",
       "</div>"
      ],
      "text/plain": [
       "      drawId        winningNumbers  joker  winners      jackpot  distributed  \\\n",
       "0          1    [32, 4, 29, 7, 16]     16        1   4311968.28  18916978.16   \n",
       "1          2    [27, 35, 19, 4, 5]      5        0         0.00  39542706.08   \n",
       "2          3  [13, 40, 17, 12, 36]      2        0  39542706.08  29768138.12   \n",
       "3          4  [12, 40, 28, 27, 18]      2        0  26361171.24  16826241.12   \n",
       "4          5   [37, 29, 8, 40, 28]     11        0    237739.40  26639833.16   \n",
       "...      ...                   ...    ...      ...          ...          ...   \n",
       "2167    2168   [18, 29, 4, 35, 27]     20        0   1232708.62    388164.86   \n",
       "2168    2169    [1, 33, 13, 3, 27]     11        0   1620873.48    324315.40   \n",
       "2169    2170   [5, 25, 38, 41, 23]     11        0   1945188.88    401055.59   \n",
       "2170    2171    [34, 4, 20, 26, 7]     16        0   2346244.46    553039.58   \n",
       "2171    2172    [11, 18, 26, 4, 1]     20        0   2899284.04    410587.93   \n",
       "\n",
       "      columns  \n",
       "0           0  \n",
       "1           0  \n",
       "2           0  \n",
       "3           0  \n",
       "4           0  \n",
       "...       ...  \n",
       "2167  3117790  \n",
       "2168  2604943  \n",
       "2169  3221330  \n",
       "2170  4442085  \n",
       "2171  3297895  \n",
       "\n",
       "[2172 rows x 7 columns]"
      ]
     },
     "execution_count": 2,
     "metadata": {},
     "output_type": "execute_result"
    }
   ],
   "source": [
    "data"
   ]
  },
  {
   "cell_type": "code",
   "execution_count": 16,
   "metadata": {},
   "outputs": [
    {
     "name": "stdout",
     "output_type": "stream",
     "text": [
      "Total number of winners: 602\n"
     ]
    }
   ],
   "source": [
    "print(\"Total number of winners:\", data[\"winners\"].sum())"
   ]
  },
  {
   "cell_type": "code",
   "execution_count": 20,
   "metadata": {},
   "outputs": [
    {
     "name": "stdout",
     "output_type": "stream",
     "text": [
      "Total number of draws with at least one winner: 453\n"
     ]
    }
   ],
   "source": [
    "haveWinner = data[\"winners\"] > 0\n",
    "print(\"Total number of draws with at least one winner:\", haveWinner.sum())"
   ]
  },
  {
   "cell_type": "code",
   "execution_count": 17,
   "metadata": {},
   "outputs": [
    {
     "name": "stdout",
     "output_type": "stream",
     "text": [
      "Total number of columns: 8440881572\n"
     ]
    }
   ],
   "source": [
    "print(\"Total number of columns:\", data[\"columns\"].sum())"
   ]
  },
  {
   "cell_type": "code",
   "execution_count": 3,
   "metadata": {},
   "outputs": [
    {
     "name": "stdout",
     "output_type": "stream",
     "text": [
      "Average number of winners: 0.27716390423572745\n"
     ]
    }
   ],
   "source": [
    "print(\"Average number of winners:\", data[\"winners\"].mean())"
   ]
  },
  {
   "cell_type": "code",
   "execution_count": 4,
   "metadata": {},
   "outputs": [
    {
     "name": "stdout",
     "output_type": "stream",
     "text": [
      "Average number of expected winners: 0.22636940578842304\n",
      "Average number of real winners over the same period: 0.24311926605504589\n"
     ]
    }
   ],
   "source": [
    "print(\"Average number of expected winners:\", (data[data['columns'] > 0]['columns'] / 24435180).mean())\n",
    "print(\"Average number of real winners over the same period:\", data[data['columns'] > 0][\"winners\"].mean())"
   ]
  },
  {
   "cell_type": "code",
   "execution_count": 5,
   "metadata": {},
   "outputs": [
    {
     "name": "stdout",
     "output_type": "stream",
     "text": [
      "Biggest number of winners: 10 at drawId: 512\n",
      "\n",
      "drawId                           512\n",
      "winningNumbers    [2, 40, 22, 9, 33]\n",
      "joker                             12\n",
      "winners                           10\n",
      "jackpot                  6.88254e+06\n",
      "distributed              4.07734e+06\n",
      "columns                            0\n",
      "Name: 511, dtype: object\n"
     ]
    }
   ],
   "source": [
    "maxId = data['winners'].idxmax()\n",
    "maxWinners = data.loc[maxId, 'winners']\n",
    "print(\"Biggest number of winners:\", maxWinners, \"at drawId:\", data.loc[maxId, 'drawId'])\n",
    "print()\n",
    "print(data.loc[maxId])"
   ]
  },
  {
   "cell_type": "code",
   "execution_count": 6,
   "metadata": {},
   "outputs": [
    {
     "name": "stdout",
     "output_type": "stream",
     "text": [
      "Biggest pool money 19278990.85 euros, at drawId: 1071 with 3 winners\n",
      "\n",
      "drawId                            1071\n",
      "winningNumbers    [22, 42, 36, 39, 17]\n",
      "joker                               14\n",
      "winners                              3\n",
      "jackpot                    1.43494e+07\n",
      "distributed                4.92957e+06\n",
      "columns                       49543409\n",
      "Name: 1070, dtype: object\n"
     ]
    }
   ],
   "source": [
    "# from drawId 210 and then the money are in euros\n",
    "inEuros = data[\"drawId\"] >= 210\n",
    "winnings = data[\"jackpot\"] + data[\"distributed\"]\n",
    "maxId = winnings[inEuros].idxmax()\n",
    "print(\"Biggest pool money\", winnings[maxId], \"euros, at drawId:\", data.loc[maxId, 'drawId'], \"with\",\n",
    "      data.loc[maxId, 'winners'], \"winners\")\n",
    "print()\n",
    "print(data.loc[maxId])"
   ]
  },
  {
   "cell_type": "code",
   "execution_count": 7,
   "metadata": {},
   "outputs": [
    {
     "name": "stdout",
     "output_type": "stream",
     "text": [
      "Biggest winning money 19278990.85 euros, at drawId: 1071 with 3 winners\n",
      "\n",
      "drawId                            1071\n",
      "winningNumbers    [22, 42, 36, 39, 17]\n",
      "joker                               14\n",
      "winners                              3\n",
      "jackpot                    1.43494e+07\n",
      "distributed                4.92957e+06\n",
      "columns                       49543409\n",
      "Name: 1070, dtype: object\n"
     ]
    }
   ],
   "source": [
    "maxId = winnings[inEuros][haveWinner].idxmax()\n",
    "print(\"Biggest winning money\", winnings[haveWinner][maxId], \"euros, at drawId:\", data.loc[maxId, 'drawId'], \"with\",\n",
    "      data.loc[maxId, 'winners'], \"winners\")\n",
    "print()\n",
    "print(data.loc[maxId])"
   ]
  },
  {
   "cell_type": "code",
   "execution_count": 8,
   "metadata": {},
   "outputs": [
    {
     "name": "stdout",
     "output_type": "stream",
     "text": [
      "None jackpot winners: 36 out of 164\n"
     ]
    }
   ],
   "source": [
    "notJackpot = data[\"jackpot\"] == 0\n",
    "print(\"None jackpot winners:\", (data[notJackpot][\"winners\"] > 0).sum(), \"out of\", notJackpot.sum())"
   ]
  },
  {
   "cell_type": "code",
   "execution_count": 23,
   "metadata": {},
   "outputs": [
    {
     "name": "stdout",
     "output_type": "stream",
     "text": [
      "Biggest winning spree: 5\n",
      "Biggest loss spree: 37\n"
     ]
    }
   ],
   "source": [
    "# winning lossing spree\n",
    "maxWinSpree = maxLossSpree = 0\n",
    "currentWinSpree = currentLossSpree = 0\n",
    "\n",
    "for res in haveWinner:\n",
    "    if res:\n",
    "        # Have winner\n",
    "        currentWinSpree += 1\n",
    "        \n",
    "        # Update loss spree\n",
    "        maxLossSpree = max(currentLossSpree, maxLossSpree)\n",
    "        currentLossSpree = 0\n",
    "    else:\n",
    "        # Don't have winner\n",
    "        currentLossSpree += 1\n",
    "        \n",
    "        # Update win spree\n",
    "        maxWinSpree = max(currentWinSpree, maxWinSpree)\n",
    "        currentWinSpree = 0\n",
    "\n",
    "print(\"Biggest winning spree:\", maxWinSpree)\n",
    "print(\"Biggest loss spree:\", maxLossSpree)"
   ]
  },
  {
   "cell_type": "code",
   "execution_count": 9,
   "metadata": {},
   "outputs": [],
   "source": [
    "from collections import Counter \n",
    "\n",
    "numbersFrequency = dict(Counter(i for sub in data[\"winningNumbers\"] for i in set(sub)))\n",
    "# print(numbersFrequency)\n",
    "\n",
    "jokerFrequency = dict(Counter(data[\"joker\"]))\n",
    "# print(jokerFrequency)\n",
    "\n",
    "winnersFrequency = dict(Counter(data[\"winners\"]))\n",
    "# print(winnersFrequency)"
   ]
  },
  {
   "cell_type": "code",
   "execution_count": 10,
   "metadata": {},
   "outputs": [
    {
     "data": {
      "text/plain": [
       "<Figure size 640x480 with 1 Axes>"
      ]
     },
     "metadata": {},
     "output_type": "display_data"
    }
   ],
   "source": [
    "import matplotlib.pyplot as plt\n",
    "\n",
    "numbersFrequencyFig = plt.figure()\n",
    "plt.bar(numbersFrequency.keys(), numbersFrequency.values())\n",
    "plt.xlabel('Number')\n",
    "plt.ylabel('Frequency')\n",
    "plt.title('Frequency of the winning numbers')\n",
    "plt.show()"
   ]
  },
  {
   "cell_type": "code",
   "execution_count": 11,
   "metadata": {},
   "outputs": [
    {
     "data": {
      "image/png": "[encoded data removed]",
      "text/plain": [
       "<Figure size 432x288 with 1 Axes>"
      ]
     },
     "metadata": {},
     "output_type": "display_data"
    }
   ],
   "source": [
    "jokerFrequencyFig = plt.figure()\n",
    "plt.bar(jokerFrequency.keys(), jokerFrequency.values())\n",
    "plt.xlabel('Joker number')\n",
    "plt.ylabel('Frequency')\n",
    "plt.title('Frequency of the winning joker numbers')\n",
    "plt.xticks(range(1,21))\n",
    "plt.show()"
   ]
  },
  {
   "cell_type": "code",
   "execution_count": 12,
   "metadata": {},
   "outputs": [
    {
     "data": {
      "image/png": "[encoded data removed]",
      "text/plain": [
       "<Figure size 432x288 with 1 Axes>"
      ]
     },
     "metadata": {},
     "output_type": "display_data"
    }
   ],
   "source": [
    "winnersFrequencyFig = plt.figure()\n",
    "plt.bar(winnersFrequency.keys(), winnersFrequency.values())\n",
    "plt.xlabel('Number of winners')\n",
    "plt.ylabel('Frequency')\n",
    "plt.title('Frequency of the winners')\n",
    "plt.xticks(range(maxWinners+1))\n",
    "plt.show()"
   ]
  },
  {
   "cell_type": "code",
   "execution_count": 13,
   "metadata": {},
   "outputs": [
    {
     "data": {
      "image/png": "[encoded data removed]",
      "text/plain": [
       "<Figure size 432x288 with 1 Axes>"
      ]
     },
     "metadata": {},
     "output_type": "display_data"
    }
   ],
   "source": [
    "winningsFig = plt.figure()\n",
    "plt.hist(winnings[inEuros]/1e6, bins=list(range(int((winnings[inEuros]/1e6).max())+1)))\n",
    "plt.xlabel('Million euros')\n",
    "plt.ylabel('Frequency')\n",
    "plt.title('Histogram of winning money')\n",
    "plt.xticks(range(int((winnings[inEuros]/1e6).max())+1))\n",
    "plt.show()"
   ]
  },
  {
   "cell_type": "code",
   "execution_count": 14,
   "metadata": {},
   "outputs": [
    {
     "data": {
      "image/png": "[encoded data removed]",
      "text/plain": [
       "<Figure size 432x288 with 1 Axes>"
      ]
     },
     "metadata": {},
     "output_type": "display_data"
    }
   ],
   "source": [
    "columnsFig = plt.figure()\n",
    "plt.hist(data[data['columns'] > 0]['columns']/1e6, bins=list(range(0, int((data[data['columns'] > 0]['columns']/1e6).max())+1, 5)))\n",
    "plt.xlabel('Million columns')\n",
    "plt.ylabel('Frequency')\n",
    "plt.title('Histogram of played columns')\n",
    "plt.xticks(range(0, int((data[data['columns'] > 0]['columns']/1e6).max())+1, 5))\n",
    "plt.show()"
   ]
  },
  {
   "cell_type": "code",
   "execution_count": 15,
   "metadata": {},
   "outputs": [],
   "source": [
    "if saveFig:\n",
    "    numbersFrequencyFig.savefig('images/numbersFrequencyFig.png')\n",
    "    jokerFrequencyFig.savefig('images/jokerFrequencyFig.png')\n",
    "    winnersFrequencyFig.savefig('images/winnersFrequencyFig.png')\n",
    "    winningsFig.savefig('images/winningsFig.png')\n",
    "    columnsFig.savefig('images/columnsFig.png')"
   ]
  },
  {
   "cell_type": "code",
   "execution_count": null,
   "metadata": {},
   "outputs": [],
   "source": []
  }
 ],
 "metadata": {
  "kernelspec": {
   "display_name": "Python 3",
   "language": "python",
   "name": "python3"
  },
  "language_info": {
   "codemirror_mode": {
    "name": "ipython",
    "version": 3
   },
   "file_extension": ".py",
   "mimetype": "text/x-python",
   "name": "python",
   "nbconvert_exporter": "python",
   "pygments_lexer": "ipython3",
   "version": "3.6.9"
  }
 },
 "nbformat": 4,
 "nbformat_minor": 2
}
